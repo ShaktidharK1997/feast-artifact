{
 "cells": [
  {
   "cell_type": "markdown",
   "id": "79ea4184",
   "metadata": {},
   "source": [
    "# Flight Delay Prediction Feature Store Demo\n",
    "\n",
    "This notebook demonstrates how to use Feast feature store for flight delay prediction. We'll cover:\n",
    "1. Setting up the feature store\n",
    "2. Retrieving historical features\n",
    "3. Managing online features\n",
    "4. Working with feature services\n",
    "5. Simulating real-time data ingestion"
   ]
  },
  {
   "cell_type": "markdown",
   "id": "fda5c757",
   "metadata": {},
   "source": [
    "## Importing Required libraries"
   ]
  },
  {
   "cell_type": "code",
   "execution_count": 40,
   "id": "873adde3-76dc-4b02-8360-ddd202ac81db",
   "metadata": {},
   "outputs": [],
   "source": [
    "import subprocess\n",
    "from datetime import datetime\n",
    "\n",
    "import pandas as pd\n",
    "\n",
    "from feast import FeatureStore\n",
    "from feast.data_source import PushMode"
   ]
  },
  {
   "cell_type": "code",
   "execution_count": 41,
   "id": "0217b46e-6359-4ef4-a988-4373b97a5029",
   "metadata": {},
   "outputs": [],
   "source": [
    "# Initialize connection to the feature store \n",
    "# repo path is where the feature_repo containing the feature_store.yaml file is \n",
    "store = FeatureStore(repo_path=\".\")"
   ]
  },
  {
   "cell_type": "markdown",
   "id": "a8517742",
   "metadata": {},
   "source": [
    "Feast supports several patterns of feature retrieval:\n",
    "\n",
    "1. Training data generation (via feature_store.get_historical_features(...))\n",
    "\n",
    "2. Offline feature retrieval for batch scoring (via feature_store.get_historical_features(...))\n",
    "\n",
    "3. Online feature retrieval for real-time model predictions\n",
    "\n",
    "In this tutorial, we will focus on training data generation and online feature retrieval"
   ]
  },
  {
   "cell_type": "markdown",
   "id": "d1f5cb7e",
   "metadata": {},
   "source": [
    "## 2. Historical Feature Retrieval\n",
    "\n",
    "Historical features represent point-in-time correct data used primarily for training machine learning models. These features are retrieved using the get_historical_features method, which ensures that only data available at the specified timestamp is used, preventing data leakage.\n",
    "\n",
    "The function `fetch_historical_features_entity_df` demonstrates how to retrieve historical features for specific flights, showing how to properly structure entity dataframes with timestamps and feature selection."
   ]
  },
  {
   "cell_type": "code",
   "execution_count": 56,
   "id": "73327a7d-5527-4ba2-b2d5-a1f4450d93b4",
   "metadata": {},
   "outputs": [],
   "source": [
    "def fetch_historical_features_entity_df(store: FeatureStore, searchdate: datetime):\n",
    "    entity_df = pd.DataFrame.from_dict(\n",
    "        {\n",
    "            \"flight_ID\": [\n",
    "                \"WN_3609\",\n",
    "                \"WN_3610\",\n",
    "                \"WN_3611\"\n",
    "            ],\n",
    "            \"event_timestamp\": [\n",
    "                 searchdate,\n",
    "                 searchdate,\n",
    "                 searchdate]\n",
    "        }\n",
    "    )\n",
    "\n",
    "    training_df = store.get_historical_features(\n",
    "        entity_df=entity_df,\n",
    "        features=[\n",
    "            \"flight_stats:Distance\",\n",
    "            \"flight_stats:CRSElapsedTime\",\n",
    "            \"flight_stats:DayOfWeek\",\n",
    "            \"flight_stats:Month\",\n",
    "            \"flight_stats:WeatherDelay\",\n",
    "            \"flight_stats:NASDelay\",\n",
    "        ],\n",
    "    ).to_df()\n",
    "    print(training_df.head())"
   ]
  },
  {
   "cell_type": "markdown",
   "id": "27aff2b1",
   "metadata": {},
   "source": [
    "## 3. Online Feature Retrieval\n",
    "\n",
    "Online feature retrieval enables real-time serving of feature values for model inference in production environments. This is critical for making predictions on live data where low-latency access to current feature values is required.\n",
    "\n",
    "The function `fetch_online_features`shows different approaches to retrieving online features, from basic feature retrieval to using feature retrieval using a push source"
   ]
  },
  {
   "cell_type": "code",
   "execution_count": 46,
   "id": "588f2fe1-0e54-4392-967f-02743c9fbacf",
   "metadata": {},
   "outputs": [],
   "source": [
    "def fetch_online_features(store, source: str = \"\"):\n",
    "    entity_rows = [\n",
    "        {\n",
    "            \"flight_ID\": \"WN_3609\",\n",
    "        },\n",
    "        {\n",
    "            \"flight_ID\": \"WN_3610\",\n",
    "        },\n",
    "        {\n",
    "            \"flight_ID\": \"WN_3611\",\n",
    "        }\n",
    "    ]\n",
    "\n",
    "    if source == \"feature_service\":\n",
    "        features_to_fetch = store.get_feature_service(\"flight_prediction_v1\")\n",
    "    elif source == \"advanced_feature_service\":\n",
    "        features_to_fetch = store.get_feature_service(\"flight_prediction_v2\")\n",
    "    elif source == \"push\":\n",
    "        features_to_fetch = store.get_feature_service(\"flight_prediction_v3\")\n",
    "    else:\n",
    "        features_to_fetch = [\n",
    "            \"flight_stats:Distance\",\n",
    "            \"flight_stats:WeatherDelay\",\n",
    "        ]\n",
    "\n",
    "    returned_features = store.get_online_features(\n",
    "        features=features_to_fetch,\n",
    "        entity_rows=entity_rows,\n",
    "    ).to_dict()\n",
    "\n",
    "    for key, value in sorted(returned_features.items()):\n",
    "        print(key, \" : \", value)"
   ]
  },
  {
   "cell_type": "code",
   "execution_count": 47,
   "id": "de83b6e8-f3ab-40cb-80e4-e792f7810071",
   "metadata": {},
   "outputs": [
    {
     "name": "stderr",
     "output_type": "stream",
     "text": [
      "/home/cc/myenv/lib/python3.10/site-packages/dask/dataframe/multi.py:521: UserWarning: Merging dataframes with merge column data type mismatches: \n",
      "+----------------------------+------------+-------------+\n",
      "| Merge columns              | left dtype | right dtype |\n",
      "+----------------------------+------------+-------------+\n",
      "| ('flight_ID', 'flight_ID') | object     | string      |\n",
      "+----------------------------+------------+-------------+\n",
      "Cast dtypes explicitly to avoid unexpected results.\n",
      "  warnings.warn(\n"
     ]
    },
    {
     "name": "stdout",
     "output_type": "stream",
     "text": [
      "  flight_ID           event_timestamp  Distance  CRSElapsedTime  DayOfWeek  \\\n",
      "0   WN_3609 2024-09-01 00:00:00+00:00     619.0           105.0          7   \n",
      "1   WN_3610 2024-09-01 00:00:00+00:00    1670.0           250.0          7   \n",
      "\n",
      "   Month  WeatherDelay  NASDelay  \n",
      "0      9           NaN       NaN  \n",
      "1      9           NaN       NaN  \n"
     ]
    }
   ],
   "source": [
    "fetch_historical_features_entity_df(store)"
   ]
  },
  {
   "cell_type": "markdown",
   "id": "f980e308",
   "metadata": {},
   "source": [
    "## 4. Feature Store Operations\n",
    "\n",
    "### 4.1 Materialize Features\n",
    "Materialization is the process of pre-computing feature values and storing them in the online store for fast access. This operation ensures that features are readily available for real-time serving without computational overhead.\n",
    "\n",
    "This example demonstrates materializing features for a specific date range (September 2024), showing how to keep the online store updated with relevant historical data."
   ]
  },
  {
   "cell_type": "code",
   "execution_count": 48,
   "id": "c6083b1c-b0c8-4cb0-8f2d-58d2b3aff9cc",
   "metadata": {},
   "outputs": [
    {
     "name": "stdout",
     "output_type": "stream",
     "text": [
      "Materializing \u001b[1m\u001b[32m2\u001b[0m feature views from \u001b[1m\u001b[32m2024-09-01 00:00:00+00:00\u001b[0m to \u001b[1m\u001b[32m2024-09-30 00:00:00+00:00\u001b[0m into the \u001b[1m\u001b[32msqlite\u001b[0m online store.\n",
      "\n",
      "\u001b[1m\u001b[32mflight_stats\u001b[0m:\n"
     ]
    },
    {
     "name": "stderr",
     "output_type": "stream",
     "text": [
      "WARNING:root:Cannot use sqlite_vec for vector search                      | 0/21956 [00:00<?, ?it/s]\n",
      "100%|███████████████████████████████████████████████████████| 21956/21956 [00:09<00:00, 2204.61it/s]\n"
     ]
    },
    {
     "name": "stdout",
     "output_type": "stream",
     "text": [
      "\u001b[1m\u001b[32mflight_stats_fresh\u001b[0m:\n"
     ]
    },
    {
     "name": "stderr",
     "output_type": "stream",
     "text": [
      "100%|███████████████████████████████████████████████████████| 21956/21956 [00:07<00:00, 2979.28it/s]\n"
     ]
    }
   ],
   "source": [
    "from datetime import datetime\n",
    "\n",
    "start_date = datetime.strptime('2024-09-01', '%Y-%m-%d')\n",
    "end_date = datetime.strptime('2024-09-30', '%Y-%m-%d')\n",
    "\n",
    "store.materialize(start_date=start_date, end_date=end_date)"
   ]
  },
  {
   "cell_type": "markdown",
   "id": "f7c5b8dd",
   "metadata": {},
   "source": [
    "### 4.2 Test Feature Retrieval\n",
    "Retrieve features using different methods and services.\n",
    "\n",
    "We demonstrate three different approaches to feature retrieval: feature service v1 (basic flight information) for basic model, and feature service v2 (comprehensive flight information) for advanced model."
   ]
  },
  {
   "cell_type": "code",
   "execution_count": 49,
   "id": "a604e41b-97a1-48e9-a741-2f371505fa25",
   "metadata": {},
   "outputs": [
    {
     "name": "stdout",
     "output_type": "stream",
     "text": [
      "Distance  :  [392.0, 787.0, 879.0]\n",
      "WeatherDelay  :  [None, 0.0, None]\n",
      "flight_ID  :  ['WN_3609', 'WN_3610', 'WN_3611']\n"
     ]
    }
   ],
   "source": [
    "fetch_online_features(store)"
   ]
  },
  {
   "cell_type": "code",
   "execution_count": 50,
   "id": "eca1f02c-eb84-4c99-b60a-dda571d054fa",
   "metadata": {},
   "outputs": [
    {
     "name": "stdout",
     "output_type": "stream",
     "text": [
      "\n",
      "--- Online features retrieved through feature service v1 ---\n",
      "CRSElapsedTime  :  [80.0, 145.0, 150.0]\n",
      "DayOfWeek  :  [7, 7, 6]\n",
      "Distance  :  [392.0, 787.0, 879.0]\n",
      "Month  :  [9, 9, 9]\n",
      "flight_ID  :  ['WN_3609', 'WN_3610', 'WN_3611']\n"
     ]
    }
   ],
   "source": [
    "print(\"\\n--- Online features retrieved through feature service v1 ---\")\n",
    "fetch_online_features(store, source=\"feature_service\")"
   ]
  },
  {
   "cell_type": "code",
   "execution_count": 51,
   "id": "56d839ad-e62f-4ed6-ae08-cc2cc9673d0f",
   "metadata": {},
   "outputs": [
    {
     "name": "stdout",
     "output_type": "stream",
     "text": [
      "\n",
      "--- Online features retrieved through feature service v2 ---\n",
      "ArrDelay  :  [-19.0, 53.0, -6.0]\n",
      "CRSElapsedTime  :  [80.0, 145.0, 150.0]\n",
      "CarrierDelay  :  [None, 45.0, None]\n",
      "DayOfWeek  :  [7, 7, 6]\n",
      "DepDelay  :  [-6.0, 45.0, 7.0]\n",
      "Dest  :  ['ICT', 'MCO', 'PHX']\n",
      "Distance  :  [392.0, 787.0, 879.0]\n",
      "LateAircraftDelay  :  [None, 0.0, None]\n",
      "Month  :  [9, 9, 9]\n",
      "NASDelay  :  [None, 8.0, None]\n",
      "Origin  :  ['STL', 'BWI', 'DAL']\n",
      "Quarter  :  [3, 3, 3]\n",
      "SecurityDelay  :  [None, 0.0, None]\n",
      "WeatherDelay  :  [None, 0.0, None]\n",
      "flight_ID  :  ['WN_3609', 'WN_3610', 'WN_3611']\n"
     ]
    }
   ],
   "source": [
    "print(\"\\n--- Online features retrieved through feature service v2 ---\")\n",
    "fetch_online_features(store, source=\"advanced_feature_service\")"
   ]
  },
  {
   "cell_type": "code",
   "execution_count": 52,
   "id": "591ad774-69d2-4538-9124-f6790c4aaf42",
   "metadata": {},
   "outputs": [
    {
     "name": "stdout",
     "output_type": "stream",
     "text": [
      "\n",
      "--- Online features retrieved using feature service v3 (with push source) ---\n",
      "CRSElapsedTime  :  [80.0, 145.0, 150.0]\n",
      "DayOfWeek  :  [7, 7, 6]\n",
      "DepDelay  :  [-6.0, 45.0, 7.0]\n",
      "Dest  :  ['ICT', 'MCO', 'PHX']\n",
      "Distance  :  [392.0, 787.0, 879.0]\n",
      "Month  :  [9, 9, 9]\n",
      "NASDelay  :  [None, 8.0, None]\n",
      "Origin  :  ['STL', 'BWI', 'DAL']\n",
      "Quarter  :  [3, 3, 3]\n",
      "WeatherDelay  :  [None, 0.0, None]\n",
      "flight_ID  :  ['WN_3609', 'WN_3610', 'WN_3611']\n"
     ]
    }
   ],
   "source": [
    "print(\"\\n--- Online features retrieved using feature service v3 (with push source) ---\")\n",
    "fetch_online_features(store, source=\"push\")"
   ]
  },
  {
   "cell_type": "markdown",
   "id": "7d3c02e5",
   "metadata": {},
   "source": [
    "## 5. Real-time Feature Updates\n",
    "\n",
    "Real-time feature updates allow the feature store to incorporate the latest data as it becomes available. This is crucial for maintaining up-to-date feature values in dynamic environments.\n",
    "\n",
    "The example simulates a stream event for flight WN_3609, demonstrating how to push new feature values to both online and offline storage (`to=PushMode.ONLINE_AND_OFFLINE`) using the push source mechanism, ensuring consistency across both serving layers."
   ]
  },
  {
   "cell_type": "code",
   "execution_count": 53,
   "id": "07490ef2-26d5-4d55-82cb-408a93325e0f",
   "metadata": {},
   "outputs": [
    {
     "name": "stdout",
     "output_type": "stream",
     "text": [
      "\n",
      "--- Simulate a stream event ingestion ---\n",
      "  flight_ID                 FlightDate Origin Dest  Distance  CRSElapsedTime  \\\n",
      "0   WN_3609 2025-01-20 19:03:20.453291    ABQ  AUS     619.0            95.0   \n",
      "\n",
      "   DayOfWeek  Month  Quarter  DepDelay  WeatherDelay  NASDelay  SecurityDelay  \\\n",
      "0          7      9        3      15.0          10.0       0.0            0.0   \n",
      "\n",
      "   LateAircraftDelay  ArrDelay  CarrierDelay  \n",
      "0                0.0      25.0           0.0  \n"
     ]
    }
   ],
   "source": [
    "print(\"\\n--- Simulate a stream event ingestion ---\")\n",
    "event_df = pd.DataFrame.from_dict(\n",
    "    {\n",
    "        \"flight_ID\": [\"WN_3609\"],\n",
    "        \"FlightDate\": [datetime.now()],\n",
    "        \"Origin\": [\"ABQ\"],\n",
    "        \"Dest\": [\"AUS\"],\n",
    "        \"Distance\": [619.0],\n",
    "        \"CRSElapsedTime\": [95.0],\n",
    "        \"DayOfWeek\": [7],\n",
    "        \"Month\": [9],\n",
    "        \"Quarter\": [3],\n",
    "        \"DepDelay\": [15.0],\n",
    "        \"WeatherDelay\": [10.0],\n",
    "        \"NASDelay\": [0.0],\n",
    "        \"SecurityDelay\": [0.0],      # Added\n",
    "        \"LateAircraftDelay\": [0.0],  # Added\n",
    "        \"ArrDelay\": [25.0],          # Added (sum of delays)\n",
    "        \"CarrierDelay\": [0.0],       # Added\n",
    "    }\n",
    "    )\n",
    "print(event_df)\n",
    "store.push(\"flight_stats_push_source\", event_df, to=PushMode.ONLINE_AND_OFFLINE)"
   ]
  },
  {
   "cell_type": "markdown",
   "id": "9331e2ea",
   "metadata": {},
   "source": [
    "Here we can see the updated entry for flight `WN_3609` with the newly ingested data"
   ]
  },
  {
   "cell_type": "code",
   "execution_count": 54,
   "id": "1a408c78-979a-47e6-85bb-681cbe72f358",
   "metadata": {},
   "outputs": [
    {
     "name": "stdout",
     "output_type": "stream",
     "text": [
      "\n",
      "--- Online features again with updated values from stream push ---\n",
      "CRSElapsedTime  :  [95.0, 145.0, 150.0]\n",
      "DayOfWeek  :  [7, 7, 6]\n",
      "DepDelay  :  [15.0, 45.0, 7.0]\n",
      "Dest  :  ['AUS', 'MCO', 'PHX']\n",
      "Distance  :  [619.0, 787.0, 879.0]\n",
      "Month  :  [9, 9, 9]\n",
      "NASDelay  :  [0.0, 8.0, None]\n",
      "Origin  :  ['ABQ', 'BWI', 'DAL']\n",
      "Quarter  :  [3, 3, 3]\n",
      "WeatherDelay  :  [10.0, 0.0, None]\n",
      "flight_ID  :  ['WN_3609', 'WN_3610', 'WN_3611']\n"
     ]
    }
   ],
   "source": [
    "print(\"\\n--- Online features again with updated values from stream push ---\")\n",
    "fetch_online_features(store, source=\"push\")"
   ]
  },
  {
   "cell_type": "markdown",
   "id": "0c4c7c67",
   "metadata": {},
   "source": [
    "As we have enabled the parameter `to=PushMode.ONLINE_AND_OFFLINE`, Feast updates the new entry in the online store and the batch source `(flights.parquet)` file\n",
    "\n",
    "We can see that, when we use the get_historical_features for `'WN_3609'` with `datetime.now()` as the date parameter, it returns the newly ingested data"
   ]
  },
  {
   "cell_type": "code",
   "execution_count": 59,
   "id": "8ae848ac-cc21-4df5-a6fe-882b6927dc99",
   "metadata": {},
   "outputs": [
    {
     "name": "stderr",
     "output_type": "stream",
     "text": [
      "/home/cc/myenv/lib/python3.10/site-packages/dask/dataframe/multi.py:521: UserWarning: Merging dataframes with merge column data type mismatches: \n",
      "+----------------------------+------------+-------------+\n",
      "| Merge columns              | left dtype | right dtype |\n",
      "+----------------------------+------------+-------------+\n",
      "| ('flight_ID', 'flight_ID') | object     | string      |\n",
      "+----------------------------+------------+-------------+\n",
      "Cast dtypes explicitly to avoid unexpected results.\n",
      "  warnings.warn(\n"
     ]
    },
    {
     "name": "stdout",
     "output_type": "stream",
     "text": [
      "  flight_ID                  event_timestamp  Distance  CRSElapsedTime  \\\n",
      "0   WN_3609 2025-01-20 19:07:04.080467+00:00     619.0            95.0   \n",
      "\n",
      "   DayOfWeek  Month  WeatherDelay  NASDelay  \n",
      "0          7      9          10.0       0.0  \n"
     ]
    }
   ],
   "source": [
    "fetch_historical_features_entity_df(store, datetime.now())"
   ]
  },
  {
   "cell_type": "code",
   "execution_count": null,
   "id": "30963566-e039-48ac-8102-66d8e068ea52",
   "metadata": {},
   "outputs": [],
   "source": []
  }
 ],
 "metadata": {
  "kernelspec": {
   "display_name": "Python 3 (ipykernel)",
   "language": "python",
   "name": "python3"
  },
  "language_info": {
   "codemirror_mode": {
    "name": "ipython",
    "version": 3
   },
   "file_extension": ".py",
   "mimetype": "text/x-python",
   "name": "python",
   "nbconvert_exporter": "python",
   "pygments_lexer": "ipython3",
   "version": "3.10.12"
  }
 },
 "nbformat": 4,
 "nbformat_minor": 5
}
